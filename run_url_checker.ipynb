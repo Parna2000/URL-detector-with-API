{
 "cells": [
  {
   "cell_type": "code",
   "execution_count": 1,
   "id": "8efb24ea",
   "metadata": {},
   "outputs": [
    {
     "name": "stdout",
     "output_type": "stream",
     "text": [
      "Requirement already satisfied: bloom-filter in /Users/parnagoswami/opt/anaconda3/lib/python3.9/site-packages (1.3.3)\r\n"
     ]
    }
   ],
   "source": [
    "!pip install bloom-filter\n",
    "from bloom_filter import BloomFilter\n",
    "import csv\n",
    "import pickle"
   ]
  },
  {
   "cell_type": "code",
   "execution_count": 2,
   "id": "cd66e7bf",
   "metadata": {},
   "outputs": [],
   "source": [
    "n = 47282 #no of items to add\n",
    "p = 0.05 #false positive probability\n",
    "\n",
    "bf = BloomFilter(n,p)"
   ]
  },
  {
   "cell_type": "code",
   "execution_count": 3,
   "id": "9404798f",
   "metadata": {},
   "outputs": [],
   "source": [
    "malicious = []\n",
    "with open ('only_malicious.csv','r') as file:\n",
    "    mal = csv.reader(file)\n",
    "    for row in mal:\n",
    "        malicious.append(row[0])"
   ]
  },
  {
   "cell_type": "code",
   "execution_count": 4,
   "id": "ee2609f0",
   "metadata": {},
   "outputs": [],
   "source": [
    "for item in malicious:\n",
    "\tbf.add(item)"
   ]
  },
  {
   "cell_type": "code",
   "execution_count": 5,
   "id": "6f935b0e",
   "metadata": {},
   "outputs": [],
   "source": [
    "# url=\"https://thehustle.co/12072020-diagnostic-startups/\"\n",
    "url=\"https://briefingday.us8.list-manage.com/unsubscribe\""
   ]
  },
  {
   "cell_type": "code",
   "execution_count": 6,
   "id": "54b983b5",
   "metadata": {},
   "outputs": [],
   "source": [
    "y=bf.__contains__(url)"
   ]
  },
  {
   "cell_type": "code",
   "execution_count": 7,
   "id": "b9174097",
   "metadata": {},
   "outputs": [
    {
     "name": "stdout",
     "output_type": "stream",
     "text": [
      "True\n"
     ]
    }
   ],
   "source": [
    "print(y)"
   ]
  },
  {
   "cell_type": "code",
   "execution_count": 8,
   "id": "724e5893",
   "metadata": {},
   "outputs": [],
   "source": [
    "pickle.dump(bf,open('/Users/parnagoswami/Desktop/Projects/Android_App_To_Detect_URL_Using_API/url-detection-android-app-api/url_checker.pkl','wb'))"
   ]
  },
  {
   "cell_type": "code",
   "execution_count": null,
   "id": "ce04f2e0",
   "metadata": {},
   "outputs": [],
   "source": []
  }
 ],
 "metadata": {
  "kernelspec": {
   "display_name": "Python 3 (ipykernel)",
   "language": "python",
   "name": "python3"
  },
  "language_info": {
   "codemirror_mode": {
    "name": "ipython",
    "version": 3
   },
   "file_extension": ".py",
   "mimetype": "text/x-python",
   "name": "python",
   "nbconvert_exporter": "python",
   "pygments_lexer": "ipython3",
   "version": "3.9.12"
  },
  "vscode": {
   "interpreter": {
    "hash": "aee8b7b246df8f9039afb4144a1f6fd8d2ca17a180786b69acc140d282b71a49"
   }
  }
 },
 "nbformat": 4,
 "nbformat_minor": 5
}
